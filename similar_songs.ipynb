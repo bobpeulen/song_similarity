{
 "cells": [
  {
   "cell_type": "markdown",
   "id": "b6416bed-87bd-46d5-b2c8-3330a54d96a6",
   "metadata": {},
   "source": [
    "# **Song comparison**"
   ]
  },
  {
   "cell_type": "code",
   "execution_count": null,
   "id": "29226833-399b-428e-b9ef-bf064745e36d",
   "metadata": {
    "tags": []
   },
   "outputs": [],
   "source": [
    "#! pip install panns-inference\n",
    "#!pip install chromadb"
   ]
  },
  {
   "cell_type": "code",
   "execution_count": 1,
   "id": "1204d3e6-c63a-4142-9ef0-0cb1f71b28eb",
   "metadata": {
    "tags": []
   },
   "outputs": [],
   "source": [
    "import librosa\n",
    "import panns_inference\n",
    "from panns_inference import AudioTagging, SoundEventDetection, labels\n",
    "import numpy as np\n",
    "import pandas as pd\n",
    "from langchain_community.vectorstores import FAISS\n",
    "import chromadb"
   ]
  },
  {
   "cell_type": "markdown",
   "id": "1299de86-ea0d-499b-8981-d101a73437ef",
   "metadata": {},
   "source": [
    "## **Convert the songs into embeddings using PANNS**"
   ]
  },
  {
   "cell_type": "code",
   "execution_count": 2,
   "id": "decf0fb6-c1ad-4857-9c95-e1ec0a64079c",
   "metadata": {
    "tags": []
   },
   "outputs": [],
   "source": [
    "#define the 3 .mp3 files\n",
    "songs = [\"songs/1.mp3\",\"songs/2.mp3\",\"songs/3.mp3\", \"songs/acrossuni_1.mp3\", \"songs/acrossuni_2.mp3\"]"
   ]
  },
  {
   "cell_type": "code",
   "execution_count": 3,
   "id": "29131e6c-660e-46e6-bbb2-bff9eea57967",
   "metadata": {
    "tags": []
   },
   "outputs": [],
   "source": [
    "## function to convert song into embedding and save the output as.npy file\n",
    "\n",
    "def convert_song_embedding(location_of_song, song_number):\n",
    "    \n",
    "    (audio, _) = librosa.core.load(location_of_song, sr=32000, mono=True)\n",
    "    audio = audio[None, :]  # (batch_size, segment_samples)\n",
    "    \n",
    "    at = AudioTagging(checkpoint_path=None, device='cuda')\n",
    "    (clipwise_output, embedding) = at.inference(audio)\n",
    "    \n",
    "    #save array\n",
    "    np.save(f'song_{song_number}.npy', embedding)\n",
    "    \n",
    "    print(\"--next song--\")\n"
   ]
  },
  {
   "cell_type": "code",
   "execution_count": 4,
   "id": "7cc74544-c4ae-44e7-b964-1fdeae7945c7",
   "metadata": {
    "tags": []
   },
   "outputs": [
    {
     "name": "stdout",
     "output_type": "stream",
     "text": [
      "songs/1.mp3\n",
      "Checkpoint path: /home/datascience/panns_data/Cnn14_mAP=0.431.pth\n",
      "Using CPU.\n",
      "--next song--\n",
      "songs/2.mp3\n",
      "Checkpoint path: /home/datascience/panns_data/Cnn14_mAP=0.431.pth\n",
      "Using CPU.\n",
      "--next song--\n",
      "songs/3.mp3\n",
      "Checkpoint path: /home/datascience/panns_data/Cnn14_mAP=0.431.pth\n",
      "Using CPU.\n",
      "--next song--\n",
      "songs/acrossuni_1.mp3\n",
      "Checkpoint path: /home/datascience/panns_data/Cnn14_mAP=0.431.pth\n",
      "Using CPU.\n",
      "--next song--\n",
      "songs/acrossuni_2.mp3\n",
      "Checkpoint path: /home/datascience/panns_data/Cnn14_mAP=0.431.pth\n",
      "Using CPU.\n",
      "--next song--\n"
     ]
    }
   ],
   "source": [
    "#loop through the 3 songs and convert to embeddings\n",
    "\n",
    "song_number = 1\n",
    "\n",
    "for location_of_song in songs:\n",
    "    \n",
    "    print(location_of_song)\n",
    "        \n",
    "    convert_song_embedding(location_of_song, song_number)\n",
    "    \n",
    "    song_number +=1\n",
    "    \n"
   ]
  },
  {
   "cell_type": "markdown",
   "id": "75ec7927-82af-4a8c-8bbb-14c06062f7e4",
   "metadata": {},
   "source": [
    "## **Check similarity**"
   ]
  },
  {
   "cell_type": "code",
   "execution_count": 5,
   "id": "f649ffed-5d52-42a1-8112-5485db0dbbcb",
   "metadata": {
    "tags": []
   },
   "outputs": [],
   "source": [
    "# Load the saved arrays\n",
    "emb1 = np.load('song_1.npy')\n",
    "emb2 = np.load('song_2.npy')\n",
    "emb3 = np.load('song_3.npy')\n",
    "emb1_across = np.load('song_4.npy')\n",
    "emb2_across = np.load('song_5.npy')"
   ]
  },
  {
   "cell_type": "code",
   "execution_count": 6,
   "id": "62315ca1-14fd-4808-99a1-bb79d64d0663",
   "metadata": {
    "tags": []
   },
   "outputs": [],
   "source": [
    "def get_cosine_similarity(vector1, vector2):\n",
    "    \"\"\"\n",
    "    Get cosine similarity value between 2 vectors embeddings\n",
    "    \"\"\"\n",
    "    vector1 = np.array(vector1.tolist()[0])\n",
    "    vector2 = np.array(vector2.tolist()[0])\n",
    "    cosine_similarity = np.dot(vector1, vector2) / (\n",
    "        np.linalg.norm(vector1) * np.linalg.norm(vector2)\n",
    "    )\n",
    "\n",
    "    return cosine_similarity"
   ]
  },
  {
   "cell_type": "code",
   "execution_count": 7,
   "id": "0dc1aaa8-ce77-418e-b813-449caadea24d",
   "metadata": {
    "tags": []
   },
   "outputs": [],
   "source": [
    "def similarsound(emb1, emb2):\n",
    "    \"\"\"\n",
    "    Cosine Similarity analysis\n",
    "    \"\"\"\n",
    "    cosine = get_cosine_similarity(emb1, emb2)\n",
    "\n",
    "    if cosine == 1:\n",
    "        decision = \"identical\"\n",
    "        color_code = \"\\033[1;31;34m\"\n",
    "    elif cosine >= 0.8:\n",
    "        decision = \"similar\"\n",
    "        color_code = \"\\033[1;31;32m\"\n",
    "    else:\n",
    "        decision = \"different\"\n",
    "        color_code = \"\\033[1;31;91m\"\n",
    "\n",
    "    print(f\"{color_code}{decision.upper()} song (cosine similarity = {cosine})\")\n"
   ]
  },
  {
   "cell_type": "code",
   "execution_count": 8,
   "id": "f6c3b5f4-c5d0-4dc7-932a-ab9f1148fa41",
   "metadata": {},
   "outputs": [
    {
     "name": "stdout",
     "output_type": "stream",
     "text": [
      "\u001b[1;31;91mDIFFERENT song (cosine similarity = 0.6808329531694801)\n"
     ]
    }
   ],
   "source": [
    "# review similarity scores\n",
    "similarsound(emb1_across, emb3)"
   ]
  },
  {
   "cell_type": "markdown",
   "id": "1d49ee47-f942-4288-83eb-69d18bd7a4c7",
   "metadata": {
    "tags": []
   },
   "source": [
    "## **Store embeddings in ChromaDB**"
   ]
  },
  {
   "cell_type": "code",
   "execution_count": 9,
   "id": "233c64c1-8fdf-4c58-9781-d5bf99050028",
   "metadata": {
    "tags": []
   },
   "outputs": [],
   "source": [
    "collection_name = \"all_songs_11\""
   ]
  },
  {
   "cell_type": "code",
   "execution_count": 10,
   "id": "9ef01cb8-f8d3-4fc9-a910-2a0468e04120",
   "metadata": {},
   "outputs": [],
   "source": [
    "chroma_client = chromadb.Client()\n",
    "collection = chroma_client.create_collection(name=collection_name)"
   ]
  },
  {
   "cell_type": "code",
   "execution_count": 11,
   "id": "16a8afee-7634-4b2f-b31f-911a7479928a",
   "metadata": {},
   "outputs": [],
   "source": [
    "#load embeddings and add them to vector db\n",
    "# Load the saved arrays\n",
    "emb1 = np.load('song_1.npy').tolist()[0]\n",
    "emb2 = np.load('song_2.npy').tolist()[0]\n",
    "emb3 = np.load('song_3.npy').tolist()[0]\n",
    "emb1_across = np.load('song_4.npy').tolist()[0]\n",
    "emb2_across = np.load('song_5.npy').tolist()[0]\n",
    "\n",
    "collection.add(\n",
    "    documents=songs,\n",
    "    embeddings=[emb1,emb2,emb3,emb1_across,emb2_across],   #these are the loaded embeddings\n",
    "    ids=[\"id1\", \"id2\", \"id3\", \"id4\", \"id5\"])"
   ]
  },
  {
   "cell_type": "code",
   "execution_count": 12,
   "id": "d42ff552-a695-416c-bc62-23c5bf82c072",
   "metadata": {},
   "outputs": [
    {
     "name": "stdout",
     "output_type": "stream",
     "text": [
      "5\n"
     ]
    }
   ],
   "source": [
    "from langchain.vectorstores import Chroma\n",
    "langchainChroma = Chroma(client=chroma_client, collection_name=collection_name) \n",
    "\n",
    "print(langchainChroma._collection.count())"
   ]
  },
  {
   "cell_type": "code",
   "execution_count": 13,
   "id": "8dcd41c8-8ae3-4211-b91c-ee34bfeceb26",
   "metadata": {
    "tags": []
   },
   "outputs": [
    {
     "name": "stderr",
     "output_type": "stream",
     "text": [
      "Number of requested results 10 is greater than number of elements in index 5, updating n_results = 5\n"
     ]
    }
   ],
   "source": [
    "output = langchainChroma.similarity_search_by_vector_with_relevance_scores(emb2_across, k=10)"
   ]
  },
  {
   "cell_type": "code",
   "execution_count": 14,
   "id": "8d2be8a3-900c-4c74-9eae-d46c703d00de",
   "metadata": {
    "tags": []
   },
   "outputs": [
    {
     "data": {
      "text/plain": [
       "[(Document(page_content='songs/acrossuni_2.mp3'), 0.0),\n",
       " (Document(page_content='songs/acrossuni_1.mp3'), 76.51272583007812),\n",
       " (Document(page_content='songs/2.mp3'), 100.62278747558594),\n",
       " (Document(page_content='songs/1.mp3'), 103.17691040039062),\n",
       " (Document(page_content='songs/3.mp3'), 117.47669982910156)]"
      ]
     },
     "execution_count": 14,
     "metadata": {},
     "output_type": "execute_result"
    }
   ],
   "source": [
    "output"
   ]
  },
  {
   "cell_type": "code",
   "execution_count": 15,
   "id": "49af66da-b104-4b0e-922f-1270f54de136",
   "metadata": {
    "tags": []
   },
   "outputs": [
    {
     "data": {
      "text/html": [
       "<div>\n",
       "<style scoped>\n",
       "    .dataframe tbody tr th:only-of-type {\n",
       "        vertical-align: middle;\n",
       "    }\n",
       "\n",
       "    .dataframe tbody tr th {\n",
       "        vertical-align: top;\n",
       "    }\n",
       "\n",
       "    .dataframe thead th {\n",
       "        text-align: right;\n",
       "    }\n",
       "</style>\n",
       "<table border=\"1\" class=\"dataframe\">\n",
       "  <thead>\n",
       "    <tr style=\"text-align: right;\">\n",
       "      <th></th>\n",
       "      <th>song</th>\n",
       "      <th>similarity_score</th>\n",
       "      <th>ranking</th>\n",
       "    </tr>\n",
       "  </thead>\n",
       "  <tbody>\n",
       "    <tr>\n",
       "      <th>0</th>\n",
       "      <td>page_content='songs/acrossuni_2.mp3'</td>\n",
       "      <td>0.000000</td>\n",
       "      <td>1.0</td>\n",
       "    </tr>\n",
       "    <tr>\n",
       "      <th>1</th>\n",
       "      <td>page_content='songs/acrossuni_1.mp3'</td>\n",
       "      <td>76.512726</td>\n",
       "      <td>2.0</td>\n",
       "    </tr>\n",
       "    <tr>\n",
       "      <th>2</th>\n",
       "      <td>page_content='songs/2.mp3'</td>\n",
       "      <td>100.622787</td>\n",
       "      <td>3.0</td>\n",
       "    </tr>\n",
       "    <tr>\n",
       "      <th>3</th>\n",
       "      <td>page_content='songs/1.mp3'</td>\n",
       "      <td>103.176910</td>\n",
       "      <td>4.0</td>\n",
       "    </tr>\n",
       "    <tr>\n",
       "      <th>4</th>\n",
       "      <td>page_content='songs/3.mp3'</td>\n",
       "      <td>117.476700</td>\n",
       "      <td>5.0</td>\n",
       "    </tr>\n",
       "  </tbody>\n",
       "</table>\n",
       "</div>"
      ],
      "text/plain": [
       "                                   song  similarity_score  ranking\n",
       "0  page_content='songs/acrossuni_2.mp3'          0.000000      1.0\n",
       "1  page_content='songs/acrossuni_1.mp3'         76.512726      2.0\n",
       "2            page_content='songs/2.mp3'        100.622787      3.0\n",
       "3            page_content='songs/1.mp3'        103.176910      4.0\n",
       "4            page_content='songs/3.mp3'        117.476700      5.0"
      ]
     },
     "execution_count": 15,
     "metadata": {},
     "output_type": "execute_result"
    }
   ],
   "source": [
    "df = pd.DataFrame(output, columns = [\"song\",\"similarity_score\"])\n",
    "df['ranking'] = df['similarity_score'].rank() \n",
    "df"
   ]
  },
  {
   "cell_type": "code",
   "execution_count": null,
   "id": "56597eb6-4518-48df-ac88-81a08b83ca4c",
   "metadata": {},
   "outputs": [],
   "source": []
  },
  {
   "cell_type": "code",
   "execution_count": null,
   "id": "e2cb2650-d733-4655-8e4a-944e8825cbca",
   "metadata": {},
   "outputs": [],
   "source": []
  },
  {
   "cell_type": "code",
   "execution_count": null,
   "id": "b1d65390-dd5b-4e3d-8b1b-f80230acdc19",
   "metadata": {},
   "outputs": [],
   "source": []
  },
  {
   "cell_type": "code",
   "execution_count": 16,
   "id": "35938b33-431d-4e05-b2f1-0ca0d8d2baba",
   "metadata": {
    "tags": []
   },
   "outputs": [],
   "source": [
    "\n",
    "def process_file(fileobj): \n",
    "    file_path = fileobj.name \n",
    "    print(file_path)\n",
    "    return check_similar_mps(file_path)\n",
    "\n",
    "\n",
    "def check_similar_mps(file_path):\n",
    "    \n",
    "    print(\"Start creating embedding\")\n",
    "    \n",
    "    #create as embedding and save\n",
    "    convert_song_embedding(file_path, 100)\n",
    "    \n",
    "    #load\n",
    "    emb100 = np.load('song_100.npy')\n",
    "    \n",
    "    print(\"Start cross check\")\n",
    "    #cross_check\n",
    "    langchainChroma = Chroma(client=chroma_client, collection_name=collection_name) \n",
    "    output = langchainChroma.similarity_search_by_vector_with_relevance_scores(emb100, k=5)\n",
    "    \n",
    "    df = pd.DataFrame(output, columns = [\"song\",\"similarity_score\"])\n",
    "    df['ranking'] = df['similarity_score'].rank() \n",
    "\n",
    "    return df\n"
   ]
  },
  {
   "cell_type": "code",
   "execution_count": null,
   "id": "fa194ec2-d1a7-46be-acd9-410bcdd0ec5d",
   "metadata": {
    "tags": []
   },
   "outputs": [],
   "source": []
  },
  {
   "cell_type": "code",
   "execution_count": null,
   "id": "0f8092e1-6934-4e39-8bc8-1dded1faa79b",
   "metadata": {
    "tags": []
   },
   "outputs": [
    {
     "name": "stdout",
     "output_type": "stream",
     "text": [
      "Running on local URL:  http://127.0.0.1:7860\n",
      "Running on public URL: https://f464e98950db5bdc73.gradio.live\n",
      "\n",
      "This share link expires in 72 hours. For free permanent hosting and GPU upgrades, run `gradio deploy` from Terminal to deploy to Spaces (https://huggingface.co/spaces)\n"
     ]
    },
    {
     "data": {
      "text/html": [
       "<div><iframe src=\"https://f464e98950db5bdc73.gradio.live\" width=\"100%\" height=\"500\" allow=\"autoplay; camera; microphone; clipboard-read; clipboard-write;\" frameborder=\"0\" allowfullscreen></iframe></div>"
      ],
      "text/plain": [
       "<IPython.core.display.HTML object>"
      ]
     },
     "metadata": {},
     "output_type": "display_data"
    },
    {
     "name": "stdout",
     "output_type": "stream",
     "text": [
      "/tmp/gradio/a4d92896db3ea055d2de65841841d0c43f6cd2d7/Across The Universe Remastered 2009.mp3\n",
      "Start creating embedding\n",
      "Checkpoint path: /home/datascience/panns_data/Cnn14_mAP=0.431.pth\n",
      "Using CPU.\n",
      "--next song--\n",
      "Start cross check\n",
      "/tmp/gradio/978889166a7dfda6c766f5f39a5acf0e2b234b61/Fiona Apple - Across the Universe Official HD Video.mp3\n",
      "Start creating embedding\n",
      "Checkpoint path: /home/datascience/panns_data/Cnn14_mAP=0.431.pth\n",
      "Using CPU.\n",
      "--next song--\n",
      "Start cross check\n"
     ]
    }
   ],
   "source": [
    "import gradio as gr\n",
    "\n",
    "demo = gr.Interface(fn=process_file, inputs=\"file\", outputs=gr.Dataframe())\n",
    "demo.launch(share=True, debug=True)"
   ]
  },
  {
   "cell_type": "code",
   "execution_count": null,
   "id": "6c10b7f8-5e6f-4033-8630-90bb15287a28",
   "metadata": {},
   "outputs": [],
   "source": []
  },
  {
   "cell_type": "code",
   "execution_count": null,
   "id": "3b05e0e3-1ac2-43d4-811b-be55e2bd69ef",
   "metadata": {},
   "outputs": [],
   "source": []
  }
 ],
 "metadata": {
  "kernelspec": {
   "display_name": "Python [conda env:pytorch21_p39_gpu_v1]",
   "language": "python",
   "name": "conda-env-pytorch21_p39_gpu_v1-py"
  },
  "language_info": {
   "codemirror_mode": {
    "name": "ipython",
    "version": 3
   },
   "file_extension": ".py",
   "mimetype": "text/x-python",
   "name": "python",
   "nbconvert_exporter": "python",
   "pygments_lexer": "ipython3",
   "version": "3.9.16"
  }
 },
 "nbformat": 4,
 "nbformat_minor": 5
}
